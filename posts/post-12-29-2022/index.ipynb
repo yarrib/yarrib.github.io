{
 "cells": [
  {
   "cell_type": "raw",
   "metadata": {},
   "source": [
    "---\n",
    "title: Why would I blog?\n",
    "author: \"Yarri Bryn\"\n",
    "date: \"2022-12-31\"\n",
    "categories:\n",
    "    - news\n",
    "    - general\n",
    "draft: true\n",
    "---"
   ]
  },
  {
   "cell_type": "markdown",
   "metadata": {},
   "source": [
    "# Why would I blog?\n",
    "\n",
    "<img src=\"ameen-fahmy-_gEKtyIbRSM-unsplash.jpg\" title=\"\" alt=\"\" width=\"400px\">\n",
    "\n",
    "Photo by <a href=\"https://unsplash.com/@ameenfahmy?utm_source=unsplash&utm_medium=referral&utm_content=creditCopyText\">Ameen Fahmy</a> on <a href=\"https://unsplash.com/s/photos/idea?utm_source=unsplash&utm_medium=referral&utm_content=creditCopyText\">Unsplash</a>]"
   ]
  },
  {
   "cell_type": "markdown",
   "metadata": {},
   "source": [
    "The main reason I'm starting this blog is because I've been hesitant to do so. I prefer not to share too much information, so this is in a sense, a bit of a personal challenge. Also, Jeremy and Rachel over at [FastAI](https://fast.ai/) are adament about blogging as a means of learning deep learning (or any topic for that matter). \n",
    "\n",
    "But I'm going to do things a little differently, in my own style, and will probably break a bunch of blogging rules because I don't know any nor do I care to look them up. I'm going to be mixing thoughts and ideas with data science code snippets and projects. While I have some ideas for upcoming posts I also am likely to interject random tutorials which I would consider *things that are important but I didn't find a good answer to*.\n",
    "\n",
    "The goal of this endeavor isn't to make money, become influential, or anything like that. It is simply to get comfortable being uncomfortable in posting content and sharing thoughts, ideas and projects. The personal gain from this won't come from visitors (if noone reads this, whatever!), but from committing to the habit and practicing it.\n",
    "\n",
    "So with that, lets go through a random code snippet that could be helpful.\n",
    "\n",
    "---\n",
    "\n",
    "### Comprehensions in Python\n",
    "\n",
    "**Lists**\n",
    "\n",
    "First we need a list to work with, which is easy enough to create in python:"
   ]
  },
  {
   "cell_type": "code",
   "execution_count": 39,
   "metadata": {},
   "outputs": [
    {
     "name": "stdout",
     "output_type": "stream",
     "text": [
      "[0, 1, 2, 3, 4, 5, 6, 7, 8, 9, 10, 11, 12, 13, 14, 15, 16, 17, 18, 19, 20, 21, 22, 23, 24]\n"
     ]
    }
   ],
   "source": [
    "list_1 = list(range(25))\n",
    "print(list_1)"
   ]
  },
  {
   "cell_type": "markdown",
   "metadata": {},
   "source": [
    "Ok, so we have a list. Lets find the odd numbers using loops:"
   ]
  },
  {
   "cell_type": "code",
   "execution_count": 40,
   "metadata": {},
   "outputs": [
    {
     "name": "stdout",
     "output_type": "stream",
     "text": [
      "[1, 3, 5, 7, 9, 11, 13, 15, 17, 19, 21, 23]\n"
     ]
    }
   ],
   "source": [
    "odd_nums = []\n",
    "for item in list_1:\n",
    "    if item%2 != 0:\n",
    "        odd_nums.append(item)\n",
    "print(odd_nums)\n"
   ]
  },
  {
   "cell_type": "markdown",
   "metadata": {},
   "source": [
    "Well that works, but kind of long winded. A list comp can shorten it up for us:"
   ]
  },
  {
   "cell_type": "code",
   "execution_count": 41,
   "metadata": {},
   "outputs": [
    {
     "name": "stdout",
     "output_type": "stream",
     "text": [
      "[1, 3, 5, 7, 9, 11, 13, 15, 17, 19, 21, 23]\n"
     ]
    }
   ],
   "source": [
    "odd_nums_lc = [item for item in list_1 if item%2 != 0]\n",
    "print(odd_nums_lc)"
   ]
  },
  {
   "cell_type": "markdown",
   "metadata": {},
   "source": [
    "So that is how list comprehensions are cool. The also works for nested lists, with Pandas DataFrames, and many other use cases.\n",
    "\n",
    "It should be noted however, that comprehensions can be harder to read, so extensively nested statements might be best being split up or incorporating some sort of loop or helper function.\n",
    "\n",
    "**Dicts**\n",
    "\n",
    "Well we need a dict, so lets take some text and do a word count. We will use the first 2 paragraphs from the [Wikipedia entry for Gandalf](https://en.wikipedia.org/wiki/Gandalf_)"
   ]
  },
  {
   "cell_type": "code",
   "execution_count": 44,
   "metadata": {},
   "outputs": [
    {
     "data": {
      "text/plain": [
       "'\\nGandalf is a protagonist in J. R. R. Tolkien\\'s novels The Hobbit and The Lord of the Rings. \\nHe is a wizard, one of the Istari order, and the leader of the Fellowship of the Ring. Tolkien took the \\nname \"Gandalf\" from the Old Norse \"Catalogue of Dwarves\" (Dvergatal) in the Völuspá.\\n\\nAs a wizard and the bearer of one of the Three Rings, Gandalf has great power, but works mostly by \\nencouraging and persuading. He sets out as Gandalf the Grey, possessing great knowledge and \\ntravelling continually. Gandalf is focused on the mission to counter the Dark Lord Sauron by \\ndestroying the One Ring. He is associated with fire; his ring of power is Narya, the Ring of \\nFire. As such, he delights in fireworks to entertain the hobbits of the Shire, while in great \\nneed he uses fire as a weapon. As one of the Maiar, he is an immortal spirit from Valinor, \\nbut his physical body can be killed.\\n'"
      ]
     },
     "execution_count": 44,
     "metadata": {},
     "output_type": "execute_result"
    }
   ],
   "source": [
    "gandalf = \"\"\"\n",
    "Gandalf is a protagonist in J. R. R. Tolkien's novels The Hobbit and The Lord of the Rings. \n",
    "He is a wizard, one of the Istari order, and the leader of the Fellowship of the Ring. Tolkien took the \n",
    "name \"Gandalf\" from the Old Norse \"Catalogue of Dwarves\" (Dvergatal) in the Völuspá.\n",
    "\n",
    "As a wizard and the bearer of one of the Three Rings, Gandalf has great power, but works mostly by \n",
    "encouraging and persuading. He sets out as Gandalf the Grey, possessing great knowledge and \n",
    "travelling continually. Gandalf is focused on the mission to counter the Dark Lord Sauron by \n",
    "destroying the One Ring. He is associated with fire; his ring of power is Narya, the Ring of \n",
    "Fire. As such, he delights in fireworks to entertain the hobbits of the Shire, while in great \n",
    "need he uses fire as a weapon. As one of the Maiar, he is an immortal spirit from Valinor, \n",
    "but his physical body can be killed.\n",
    "\"\"\"\n",
    "\n",
    "gandalf"
   ]
  },
  {
   "cell_type": "markdown",
   "metadata": {},
   "source": [
    "Well as is we have some work to do on the text to clean it up, as is often required. So lets do that. we need to strip special characters, quotes, and some other things. \n",
    "\n",
    "Steps:\n",
    "- use a regular expression (regex) to strip out punctuaton\n",
    "- convert everything to lower\n",
    "- remove all words less than 3 letters in length"
   ]
  },
  {
   "cell_type": "code",
   "execution_count": 45,
   "metadata": {},
   "outputs": [
    {
     "name": "stdout",
     "output_type": "stream",
     "text": [
      "['gandalf', 'protagonist', 'tolkiens', 'novels', 'the', 'hobbit', 'and', 'the', 'lord', 'the', 'rings', 'wizard', 'one', 'the', 'istari', 'order', 'and', 'the', 'leader', 'the', 'fellowship', 'the', 'ring', 'tolkien', 'took', 'the', 'name', 'gandalf', 'from', 'the', 'old', 'norse', 'catalogue', 'dwarves', 'dvergatal', 'the', 'völuspáas', 'wizard', 'and', 'the', 'bearer', 'one', 'the', 'three', 'rings', 'gandalf', 'has', 'great', 'power', 'but', 'works', 'mostly', 'encouraging', 'and', 'persuading', 'sets', 'out', 'gandalf', 'the', 'grey', 'possessing', 'great', 'knowledge', 'and', 'travelling', 'continually', 'gandalf', 'focused', 'the', 'mission', 'counter', 'the', 'dark', 'lord', 'sauron', 'destroying', 'the', 'one', 'ring', 'associated', 'with', 'fire', 'his', 'ring', 'power', 'narya', 'the', 'ring', 'fire', 'such', 'delights', 'fireworks', 'entertain', 'the', 'hobbits', 'the', 'shire', 'while', 'great', 'need', 'uses', 'fire', 'weapon', 'one', 'the', 'maiar', 'immortal', 'spirit', 'from', 'valinor', 'but', 'his', 'physical', 'body', 'can', 'killed']\n"
     ]
    }
   ],
   "source": [
    "import re\n",
    "\n",
    "gandalf_clean_list = re.sub(r'[^\\w\\s]|\\n', '', gandalf).lower().split(' ')\n",
    "gandalf_filtered = [x for x in gandalf_clean_list if len(x) >= 3]\n",
    "print(gandalf_filtered)"
   ]
  },
  {
   "cell_type": "markdown",
   "metadata": {},
   "source": [
    "Ok, so we have this list of words. Now what? Well to get the word counts we have a few options:\n",
    "- Cheat and use `collections.Counter`\n",
    "- Use a for loop\n",
    "- Use a dictionary comprehension"
   ]
  },
  {
   "cell_type": "code",
   "execution_count": 46,
   "metadata": {},
   "outputs": [
    {
     "name": "stdout",
     "output_type": "stream",
     "text": [
      "Counter({'the': 20, 'gandalf': 5, 'and': 5, 'one': 4, 'ring': 4, 'great': 3, 'fire': 3, 'lord': 2, 'rings': 2, 'wizard': 2, 'from': 2, 'power': 2, 'but': 2, 'his': 2, 'protagonist': 1, 'tolkiens': 1, 'novels': 1, 'hobbit': 1, 'istari': 1, 'order': 1, 'leader': 1, 'fellowship': 1, 'tolkien': 1, 'took': 1, 'name': 1, 'old': 1, 'norse': 1, 'catalogue': 1, 'dwarves': 1, 'dvergatal': 1, 'völuspáas': 1, 'bearer': 1, 'three': 1, 'has': 1, 'works': 1, 'mostly': 1, 'encouraging': 1, 'persuading': 1, 'sets': 1, 'out': 1, 'grey': 1, 'possessing': 1, 'knowledge': 1, 'travelling': 1, 'continually': 1, 'focused': 1, 'mission': 1, 'counter': 1, 'dark': 1, 'sauron': 1, 'destroying': 1, 'associated': 1, 'with': 1, 'narya': 1, 'such': 1, 'delights': 1, 'fireworks': 1, 'entertain': 1, 'hobbits': 1, 'shire': 1, 'while': 1, 'need': 1, 'uses': 1, 'weapon': 1, 'maiar': 1, 'immortal': 1, 'spirit': 1, 'valinor': 1, 'physical': 1, 'body': 1, 'can': 1, 'killed': 1})\n"
     ]
    }
   ],
   "source": [
    "# method 1: collections.Counter\n",
    "from collections import Counter\n",
    "\n",
    "gandalf_wc_v1 = Counter(gandalf_filtered)\n",
    "print(gandalf_wc_v1)"
   ]
  },
  {
   "cell_type": "code",
   "execution_count": 47,
   "metadata": {},
   "outputs": [
    {
     "name": "stdout",
     "output_type": "stream",
     "text": [
      "{'gandalf': 5, 'protagonist': 1, 'tolkiens': 1, 'novels': 1, 'the': 20, 'hobbit': 1, 'and': 5, 'lord': 2, 'rings': 2, 'wizard': 2, 'one': 4, 'istari': 1, 'order': 1, 'leader': 1, 'fellowship': 1, 'ring': 4, 'tolkien': 1, 'took': 1, 'name': 1, 'from': 2, 'old': 1, 'norse': 1, 'catalogue': 1, 'dwarves': 1, 'dvergatal': 1, 'völuspáas': 1, 'bearer': 1, 'three': 1, 'has': 1, 'great': 3, 'power': 2, 'but': 2, 'works': 1, 'mostly': 1, 'encouraging': 1, 'persuading': 1, 'sets': 1, 'out': 1, 'grey': 1, 'possessing': 1, 'knowledge': 1, 'travelling': 1, 'continually': 1, 'focused': 1, 'mission': 1, 'counter': 1, 'dark': 1, 'sauron': 1, 'destroying': 1, 'associated': 1, 'with': 1, 'fire': 3, 'his': 2, 'narya': 1, 'such': 1, 'delights': 1, 'fireworks': 1, 'entertain': 1, 'hobbits': 1, 'shire': 1, 'while': 1, 'need': 1, 'uses': 1, 'weapon': 1, 'maiar': 1, 'immortal': 1, 'spirit': 1, 'valinor': 1, 'physical': 1, 'body': 1, 'can': 1, 'killed': 1}\n"
     ]
    }
   ],
   "source": [
    "# method 2: for loop\n",
    "\n",
    "gandalf_wc_v2 = {}\n",
    "# Count number of times each word comes up in list of words (in dictionary)\n",
    "for w in gandalf_filtered:\n",
    "    if w not in gandalf_wc_v2.keys():\n",
    "        gandalf_wc_v2[w] = 1\n",
    "    else:\n",
    "        gandalf_wc_v2[w] += 1\n",
    "\n",
    "print(gandalf_wc_v2)"
   ]
  },
  {
   "cell_type": "code",
   "execution_count": null,
   "metadata": {},
   "outputs": [],
   "source": []
  }
 ],
 "metadata": {
  "kernelspec": {
   "display_name": "Python 3.9.9 ('tutorial-env')",
   "language": "python",
   "name": "python3"
  },
  "language_info": {
   "codemirror_mode": {
    "name": "ipython",
    "version": 3
   },
   "file_extension": ".py",
   "mimetype": "text/x-python",
   "name": "python",
   "nbconvert_exporter": "python",
   "pygments_lexer": "ipython3",
   "version": "3.9.9"
  },
  "orig_nbformat": 4,
  "vscode": {
   "interpreter": {
    "hash": "7f4429fc02b3306677311278e1da8bb07e6c0cc223840bf7a066f29946ac3bbb"
   }
  }
 },
 "nbformat": 4,
 "nbformat_minor": 2
}
