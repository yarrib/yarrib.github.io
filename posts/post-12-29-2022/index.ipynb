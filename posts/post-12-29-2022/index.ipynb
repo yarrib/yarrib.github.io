{
 "cells": [
  {
   "cell_type": "raw",
   "metadata": {},
   "source": [
    "---\n",
    "title: Test Blog Post\n",
    "author: \"Yarri Bryn\"\n",
    "date: \"2022-12-29\"\n",
    "---"
   ]
  },
  {
   "cell_type": "code",
   "execution_count": 1,
   "metadata": {},
   "outputs": [
    {
     "data": {
      "text/plain": [
       "[(0, 0, 0), (1, 1, 1), (2, 4, 8), (3, 9, 27), (4, 16, 64)]"
      ]
     },
     "execution_count": 1,
     "metadata": {},
     "output_type": "execute_result"
    }
   ],
   "source": [
    "# this is a random code cell\n",
    "\n",
    "def some_func(x:int):\n",
    "    seq = list(range(0,x))\n",
    "    return [(x,x**2,x**3) for x in seq]\n",
    "\n",
    "some_func(5)"
   ]
  },
  {
   "cell_type": "raw",
   "metadata": {},
   "source": []
  }
 ],
 "metadata": {
  "kernelspec": {
   "display_name": "Python 3.9.9 ('tutorial-env')",
   "language": "python",
   "name": "python3"
  },
  "language_info": {
   "codemirror_mode": {
    "name": "ipython",
    "version": 3
   },
   "file_extension": ".py",
   "mimetype": "text/x-python",
   "name": "python",
   "nbconvert_exporter": "python",
   "pygments_lexer": "ipython3",
   "version": "3.9.9"
  },
  "orig_nbformat": 4,
  "vscode": {
   "interpreter": {
    "hash": "7f4429fc02b3306677311278e1da8bb07e6c0cc223840bf7a066f29946ac3bbb"
   }
  }
 },
 "nbformat": 4,
 "nbformat_minor": 2
}
