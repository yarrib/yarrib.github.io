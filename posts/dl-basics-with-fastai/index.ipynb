{
 "cells": [
  {
   "cell_type": "raw",
   "metadata": {},
   "source": [
    "---\n",
    "title: \"Fastai Course v2022, Lessons 1 and 2\"\n",
    "author: \"Yarri Bryn\"\n",
    "date: \"2023-01-05\"\n",
    "categories:\n",
    "    - about\n",
    "    - fastai\n",
    "    - deep learning\n",
    "page-layout: full\n",
    "---"
   ]
  },
  {
   "attachments": {},
   "cell_type": "markdown",
   "metadata": {},
   "source": [
    "# Getting started with Fastai: A no-code overview\n",
    "\n",
    "Recently I started the Fast.ai course [Practical Deep Learning For Coders](https://course.fast.ai). Now this isn't my first time around but I feel less intimidated this time. I watched all the video lessons for the 2020 version of the course, gaining some high level knowledge. I bought the book as well, which is mentioned on the course site lined above. I was excited about what is possible in deep learning yet equally intimidated by the sheer scope of the field. \n",
    "\n",
    "To this day I am a believer in impostor syndrome; that is, I am living it on daily basis. Though I feel like I don't know anything I am making tremendous progress in areas directly and indirectly related to deep learning. \n",
    "\n",
    "For the 2020 course I found it hard to go beyond just running the provided notebooks. The barrier for me - and I'd wager for many others - is getting overwhelmed and making a list of things to learn instead of just doing it. This runs contrary to the Fast.ai principle of top down learning. For me there is a fear of failure in learning and/or establishing a career in data sience.\n",
    "\n",
    "Yet everyone starts from somewhere and I don't believe its possible to go from zero to hero in a few weeks. Consistent effort is the recipe for success. Some people find success more quickly, others it takes longer. Persistence is key.\n",
    "\n",
    "As noted in my first blog post, I've resisted starting a blog even though it is an excellent way to share and learn. As I learn I hope to share perspectives that are suited towards people like me; those that are always learning and like to relate to things common sense terms. Lets get started!\n",
    "\n",
    "## The basics\n",
    "\n",
    "**What is deep learning and what is it all about?***\n",
    "\n",
    "- In normal human speak, deep learning is an evolution and subset of machine learning. \n",
    "- Deep Learning (DL) is centered around something called neural networks. \n",
    "- Neural nets are a type of machine learning model architecture, which in theory permit a universally flexible function to approximate any relationship of observations to outcomes.\n",
    "- A machine learning model is a general way to solve a problem. For example, given some data and some label that it belongs to, e.g. demographic data (features) that maps to what your income might be (target), we try to create a model which \"learns\" how X (features) maps to y (target).\n",
    "- A model architecture is the math behind this process. Neural nets are flexible because they use clever math to create and learn values of hidden parameters that allow us to go from X -> y.\n",
    "- Do you need to know the details beyond this? Yeah, you do. But not yet. Don't worry about it!\n",
    "\n",
    "\n",
    "**Can deep learning be easy?**\n",
    "\n",
    "- Jeremy Howard says it can be learned by doing, and some things that were beyond difficult a decade ago are trivial today.\n",
    "- It is not easy, however, nor is it quick to learn. Practice on a regular basis and you will accumilate knowledge.\n",
    "\n",
    "\n",
    "**What is a simple way to train a model?**\n",
    "\n",
    "First of all, do yourself a favor and don't try to write things from scratch. Use Fastai or another library which can abstract the details and boilerplate code. Second, create a model! This will be a computer vision model that classifies species of houseplants. Pick some topic that interests you and solve a trivial problem.\n",
    "\n",
    "- Here is the repo behind this app, hosted on huggingface spaces [here](https://huggingface.co/spaces/yarrib/houseplants/tree/main)\n",
    "- Steps:\n",
    "    - get data: web scrape from duck duck go\n",
    "    - preprocess data\n",
    "    - train model\n",
    "    - evaulate result\n",
    "    - create a Gradio app: you don't need to do much!\n",
    "    - publish model to Huggingface Spaces: use git or even the file upload if git sounds too hard right now\n",
    "\n",
    "## The app\n",
    "\n",
    "<iframe\n",
    "\tsrc=\"https://yarrib-houseplants.hf.space\"\n",
    "\tframeborder=\"0\"\n",
    "\twidth=100%  \n",
    "\theight=750px\n",
    "></iframe>\n",
    "    \n",
    "\n",
    "## Parting thoughts\n",
    "\n",
    "Creating a project like the above is relatively straightfoward, but I totally understand how it can seem hard at first. Getting an error or trying to figure out how something works can be a tedious process, but you can do it. It is challenging to learn, and easy to get discouraged. But everyone starts somewhere, and you learn by doing. Stay positive and patient!\n"
   ]
  },
  {
   "cell_type": "code",
   "execution_count": null,
   "metadata": {},
   "outputs": [],
   "source": []
  }
 ],
 "metadata": {
  "kernelspec": {
   "display_name": "fastai2",
   "language": "python",
   "name": "python3"
  },
  "language_info": {
   "codemirror_mode": {
    "name": "ipython",
    "version": 3
   },
   "file_extension": ".py",
   "mimetype": "text/x-python",
   "name": "python",
   "nbconvert_exporter": "python",
   "pygments_lexer": "ipython3",
   "version": "3.10.8"
  },
  "orig_nbformat": 4,
  "vscode": {
   "interpreter": {
    "hash": "525f2a2bfc8b3bf36ed6454238eb0041d73790bc7476e141a7f49367525b5047"
   }
  }
 },
 "nbformat": 4,
 "nbformat_minor": 2
}
