{
 "cells": [
  {
   "cell_type": "raw",
   "metadata": {},
   "source": [
    "---\n",
    "title: \"Fastai Course v2022, Lessons 1 and 2\"\n",
    "author: \"Yarri Bryn\"\n",
    "date: \"2023-01-05\"\n",
    "categories:\n",
    "    - about\n",
    "    - fastai\n",
    "    - deep learning\n",
    "page-layout: full\n",
    "---"
   ]
  },
  {
   "attachments": {},
   "cell_type": "markdown",
   "metadata": {},
   "source": [
    "\n",
    "# <font color=\"purple\">**--------PUBLIC DRAFT--------**</font>"
   ]
  },
  {
   "cell_type": "raw",
   "metadata": {},
   "source": []
  },
  {
   "cell_type": "raw",
   "metadata": {},
   "source": []
  },
  {
   "attachments": {},
   "cell_type": "markdown",
   "metadata": {},
   "source": [
    "# \n",
    "\n",
    "Recently I started the Fast.ai course [Practical Deep Learning For Coders](https://course.fast.ai). Now this isn't my first time around but I feel less intimidated this time. I made it though all of the video lessons for the 2020 version of the course and had a lot of takeaways. I was excited about what is possible in deep learning yet equally intimidated by the sheer scope of the field. To this day I am a believer in impostor syndrome; that is, I am living it on daily basis. Though I feel like I don't know anything I am making tremendous progress in areas directly and indirectly related to deep learning.\n",
    "\n",
    "I previously listened to the lessons and attempted some of the coding exercises, chapter questions, and even bought the book so I posessed a paper copy. I found it hard to go beyond just running the provided notebooks. My barrier, and this is probably more common than my intuition would indicate, is that I overanalyze and come up with a list of things to learn. This runs contrary to the Fast.ai principle of top down learning. For me there is a fear of failure, a fear of doing something thats already been done and is trivial, and an inkling that I'll never learn it or break into the field.\n",
    "\n",
    "This of course is insane, because everyone starts from somewhere and very few people go from zero to hero in a few weeks. For nearly everyone across all domains, consistent practice is the recipe for success. Some people find success more quickly, others it takes longer. Persistence is key.\n",
    "\n",
    "As noted in my previous - and first - blog post, I've resisted starting a blog even though it is an excellent way to ingrain knowledge and also share what one has learned in a unique perspective. So as I begin this journey I hope that I'm able to share perspectives that make deep learning more approachable and explain it in common sense terms. Lets get started!\n",
    "\n",
    "## The basics\n",
    "\n",
    "**What is deep learning and what is it all about?***\n",
    "\n",
    "- In normal human speak, deep learning is an evolution and subset of machine learning. \n",
    "- Deep Learning (DL) is centered around something called neural networks. \n",
    "- Neural nets are a type of machine learning model architecture, which in theory permit a universally flexible function to approximate just about anything given some input data that represents what you wnat to do.\n",
    "- A machine learning model is a general way to solve a problem. For example, given some data and some label that it belongs to, e.g. demographic data (features) that maps to what your income might be (target), we try to create a model which \"learns\" how X (features) maps to y (target).\n",
    "- A model architecture is the math behind this process. Neural nets are flexible because they learn latent relationships by doing a bunch of linear algebra and calculus in the background, in an authomated, iterative fashion.\n",
    "- Short version: \n",
    "    + We use a model architecture, pass information into it, and get predictions on this data. This fitting process is something we iterate over until we have a satisfactory result that allows us to make some predictions or inferences about a subset of the world. There are lots of domains and ways to do this, and a rapidly expanding domain of study under the Data Science umbrella.\n",
    "- Do you need to know the details beyond this? Eventually, but it isn't critical to accomplish some tasks. Worry about it later!\n",
    "\n",
    "\n",
    "**Can deep learning be easy?**\n",
    "\n",
    "- Jeremy Howard says it can be learned by doing, and some things that were beyond difficult a decade ago are trivial today.\n",
    "- It is not easy, however, nor is it quick to learn. Add a little bit of info on a regular basis and you will accumilate knowledge.\n",
    "- Practice makes permanent.\n",
    "\n",
    "\n",
    "**What is a simple way to train a model?**\n",
    "\n",
    "- Open source product plug: Fastai is great for deep learning.\n",
    "- Lets train a model thats slightly more exciting than the two-class classifier in Lesson 1 and 2 of the Fast.ai course.\n",
    "- Steps:\n",
    "    - get data\n",
    "    - preprocess data\n",
    "    - train model\n",
    "    - evaulate result\n",
    "    - publish model to Huggingface Spaces\n",
    "    \n"
   ]
  },
  {
   "cell_type": "code",
   "execution_count": 1,
   "metadata": {},
   "outputs": [],
   "source": [
    "#imports\n",
    "from fastai.vision.all import *\n",
    "\n",
    "# get data\n",
    "\n",
    "\n",
    "# setup dataloaders\n",
    "\n",
    "\n",
    "# train model\n",
    "\n",
    "\n",
    "# save model\n",
    "\n",
    "\n",
    "# get predictions"
   ]
  },
  {
   "cell_type": "markdown",
   "metadata": {},
   "source": []
  }
 ],
 "metadata": {
  "kernelspec": {
   "display_name": "fastai2",
   "language": "python",
   "name": "python3"
  },
  "language_info": {
   "codemirror_mode": {
    "name": "ipython",
    "version": 3
   },
   "file_extension": ".py",
   "mimetype": "text/x-python",
   "name": "python",
   "nbconvert_exporter": "python",
   "pygments_lexer": "ipython3",
   "version": "3.10.4 | packaged by conda-forge | (main, Mar 24 2022, 17:45:10) [Clang 12.0.1 ]"
  },
  "orig_nbformat": 4,
  "vscode": {
   "interpreter": {
    "hash": "525f2a2bfc8b3bf36ed6454238eb0041d73790bc7476e141a7f49367525b5047"
   }
  }
 },
 "nbformat": 4,
 "nbformat_minor": 2
}
