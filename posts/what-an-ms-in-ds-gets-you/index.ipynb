{
 "cells": [
  {
   "cell_type": "raw",
   "metadata": {},
   "source": [
    "---\n",
    "title: \"What an MS in Data Science gets you\"\n",
    "description: \"Spoiler: it depends on your background\"\n",
    "author: \"Yarri Bryn\"\n",
    "date: \"2023-01-16\"\n",
    "categories:\n",
    "    - education\n",
    "    - data science\n",
    "page-layout: full\n",
    "---"
   ]
  },
  {
   "attachments": {},
   "cell_type": "markdown",
   "metadata": {},
   "source": [
    "# What an MS in Data Science gets you\n",
    "\n",
    "I started thinking about additional education a few years after my undergrad. I played college golf, then tried to play professional golf, with a serious lack of success. After a few years, and the end of 2017 I decided that I was going to stop playing golf tournaments preofessionally and focus a little bit more on a career. I learned the basics of Python, PowerBI, and picked up some ancillary tools and skills. It took a little bit, but by early 2019 I was considering an MBA or a Master's in Data Sience. \n",
    "\n",
    "Interestingly, I recieved more pro-MBA advice than those on the analytics side. Despite that I decided to pursue the MS in Data Science through an online program with the University of Wisconsin. Two primary factors motivated this decision, (1) the reasonable expense, and (2) that I could continue working while pursuing this degree. One hesitation with some in person and hybrid programs was giving up a stable income in order to take this step. Though some might see this as indecision, it was a form of hedging my bets; furthering my career prospects while continuing to work.\n",
    "\n",
    "Fortunately, I was able to apply a lot of new skills to my existing job, whether self-taught or learned through my MS-DS program. And whats more is that via some networking within my program I was able to move into my current role. Yet after taking 2.5 years to complete an MS in Data Science I felt like a complete novice. This was in early 2022.\n",
    "\n",
    "## Whats the point?\n",
    "\n",
    "Well, turns out that in a technical field getting a degree is only a small step in career progression. My bachelor's degree was in business, and I do not have the STEM background that so many seem to have. That also means I'm not comfortable with math formulae, theorems, reading academic journals, or other pursuits. I missed out on the ins and outs of data structures, algorithms, and whatever else is taught in CS undergrad programs. However, I do have some less technical skills in communication, common sense, and business acumen.\n",
    "\n",
    "So unlike the brilliant folks who have been technical since day 1, I moved into a techincal space at a later age. What my MS in Data Science has afforded me is a new space in which to learn, to take on new challenges, and bridge the gap between technical and non-technical folks. More experienced techincal practictioners have to learn the business side eventually. My path is reversed. I think there are others like me, others that are getting excited about technical fields later in life. Whether it is data science or another field, the point is that an MS or other degree is a stepping stone. It's a path forward that can get you started and give you that kick forward that many of us need.\n",
    "\n",
    "## Bottom line\n",
    "\n",
    "An MS in Data Science gets you moving forward, might get you a job, but more importantly gets you some notion as to whether you are ready to commit to continous learning. There are a lot of paths forward in the domain of data science, from BI to AI. No, despite what people say not everything is going to be automated tomorrow. \n",
    "\n",
    "I am moving forward with much to learn, but a solid base from which to find a specialty. Presently I am engaged in work and education in the areas of MLOps, cloud infrastructure, and deep learning. Like many I feel overwhelmed with the infinite space of things that one could learn. And I am guilty of paralysis by analysis, specifically making lists of what to do learn next with a course or book, instead of learning by doing and figuring out the details as I go. I'm attepting to do the latter, and I encourage anyone to do the same. It seems far more productive.\n",
    "\n",
    "As a parting thought, don't be too hard on yourself. If you are like me and find your free time taken up by real life, don't sweat it. Some practice where you can spare it is better than none. And spending time on recreation, fitness, and kids (if you have them) is probably far more important than trying to keep up on the latest development in AI.\n"
   ]
  }
 ],
 "metadata": {
  "kernelspec": {
   "display_name": "base",
   "language": "python",
   "name": "python3"
  },
  "language_info": {
   "codemirror_mode": {
    "name": "ipython",
    "version": 3
   },
   "file_extension": ".py",
   "mimetype": "text/x-python",
   "name": "python",
   "nbconvert_exporter": "python",
   "pygments_lexer": "ipython3",
   "version": "3.10.6 | packaged by conda-forge | (main, Aug 22 2022, 20:41:54) [Clang 13.0.1 ]"
  },
  "orig_nbformat": 4,
  "vscode": {
   "interpreter": {
    "hash": "b80fa75b2cc8975a0825c77d12cf0997232eed434c53ee579ba0774c2e3ee993"
   }
  }
 },
 "nbformat": 4,
 "nbformat_minor": 2
}
