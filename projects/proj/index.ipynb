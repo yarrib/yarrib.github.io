{
 "cells": [
  {
   "cell_type": "raw",
   "metadata": {},
   "source": [
    "---\n",
    "title: Test Project Post\n",
    "author: \"Yarri Bryn\"\n",
    "date: \"2022-12-29\"\n",
    "---"
   ]
  },
  {
   "cell_type": "code",
   "execution_count": 1,
   "metadata": {},
   "outputs": [
    {
     "name": "stdout",
     "output_type": "stream",
     "text": [
      "the number 0 is cleanly divisible by 5\n",
      "the number 5 is cleanly divisible by 5\n",
      "the number 10 is cleanly divisible by 5\n",
      "the number 15 is cleanly divisible by 5\n",
      "the number 20 is cleanly divisible by 5\n",
      "the number 25 is cleanly divisible by 5\n",
      "the number 30 is cleanly divisible by 5\n",
      "the number 35 is cleanly divisible by 5\n",
      "the number 40 is cleanly divisible by 5\n",
      "the number 45 is cleanly divisible by 5\n",
      "the number 50 is cleanly divisible by 5\n",
      "the number 55 is cleanly divisible by 5\n",
      "the number 60 is cleanly divisible by 5\n",
      "the number 65 is cleanly divisible by 5\n",
      "the number 70 is cleanly divisible by 5\n",
      "the number 75 is cleanly divisible by 5\n",
      "the number 80 is cleanly divisible by 5\n",
      "the number 85 is cleanly divisible by 5\n",
      "the number 90 is cleanly divisible by 5\n",
      "the number 95 is cleanly divisible by 5\n"
     ]
    }
   ],
   "source": [
    "for i in range(98):\n",
    "    if i%5 == 0:\n",
    "        print(f'the number {i} is cleanly divisible by 5')\n",
    "        "
   ]
  },
  {
   "cell_type": "code",
   "execution_count": null,
   "metadata": {},
   "outputs": [],
   "source": []
  }
 ],
 "metadata": {
  "kernelspec": {
   "display_name": "Python 3.9.9 ('tutorial-env')",
   "language": "python",
   "name": "python3"
  },
  "language_info": {
   "codemirror_mode": {
    "name": "ipython",
    "version": 3
   },
   "file_extension": ".py",
   "mimetype": "text/x-python",
   "name": "python",
   "nbconvert_exporter": "python",
   "pygments_lexer": "ipython3",
   "version": "3.9.9"
  },
  "orig_nbformat": 4,
  "vscode": {
   "interpreter": {
    "hash": "7f4429fc02b3306677311278e1da8bb07e6c0cc223840bf7a066f29946ac3bbb"
   }
  }
 },
 "nbformat": 4,
 "nbformat_minor": 2
}
